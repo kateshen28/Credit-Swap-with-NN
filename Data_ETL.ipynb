{
 "cells": [
  {
   "cell_type": "code",
   "execution_count": 8,
   "metadata": {},
   "outputs": [],
   "source": [
    "import urllib.request\n",
    "import zipfile\n",
    "import os"
   ]
  },
  {
   "cell_type": "code",
   "execution_count": 9,
   "metadata": {},
   "outputs": [],
   "source": [
    "example_url = 'https://kgc0418-tdw-data2-0.s3.amazonaws.com/slices/CUMULATIVE_CREDITS_2019_02_28.zip'\n",
    "base_url = 'https://kgc0418-tdw-data2-0.s3.amazonaws.com/slices/CUMULATIVE_CREDITS_'\n",
    "out_file_name = 'one_big_csv.csv'\n",
    "\n",
    "\n",
    "#urllib.request.urlretrieve(example_url, 'CC_1.zip')\n",
    "\n",
    "years = ['2016','2017','2018','2019']\n",
    "dates = []\n",
    "months = ['01','02','03','04','05','06','07','08','09','10','11','12']\n",
    "header_line = b'\"DISSEMINATION_ID\",\"ORIGINAL_DISSEMINATION_ID\",\"ACTION\",\"EXECUTION_TIMESTAMP\",\"CLEARED\",\"INDICATION_OF_COLLATERALIZATION\",\"INDICATION_OF_END_USER_EXCEPTION\",\"INDICATION_OF_OTHER_PRICE_AFFECTING_TERM\",\"BLOCK_TRADES_AND_LARGE_NOTIONAL_OFF-FACILITY_SWAPS\",\"EXECUTION_VENUE\",\"EFFECTIVE_DATE\",\"END_DATE\",\"DAY_COUNT_CONVENTION\",\"SETTLEMENT_CURRENCY\",\"ASSET_CLASS\",\"SUB-ASSET_CLASS_FOR_OTHER_COMMODITY\",\"TAXONOMY\",\"PRICE_FORMING_CONTINUATION_DATA\",\"UNDERLYING_ASSET_1\",\"UNDERLYING_ASSET_2\",\"PRICE_NOTATION_TYPE\",\"PRICE_NOTATION\",\"ADDITIONAL_PRICE_NOTATION_TYPE\",\"ADDITIONAL_PRICE_NOTATION\",\"NOTIONAL_CURRENCY_1\",\"NOTIONAL_CURRENCY_2\",\"ROUNDED_NOTIONAL_AMOUNT_1\",\"ROUNDED_NOTIONAL_AMOUNT_2\",\"PAYMENT_FREQUENCY_1\",\"PAYMENT_FREQUENCY_2\",\"RESET_FREQUENCY_1\",\"RESET_FREQUENCY_2\",\"EMBEDED_OPTION\",\"OPTION_STRIKE_PRICE\",\"OPTION_TYPE\",\"OPTION_FAMILY\",\"OPTION_CURRENCY\",\"OPTION_PREMIUM\",\"OPTION_LOCK_PERIOD\",\"OPTION_EXPIRATION_DATE\",\"PRICE_NOTATION2_TYPE\",\"PRICE_NOTATION2\",\"PRICE_NOTATION3_TYPE\",\"PRICE_NOTATION3\"\\n'"
   ]
  },
  {
   "cell_type": "code",
   "execution_count": 10,
   "metadata": {},
   "outputs": [],
   "source": [
    "for date in range(1,32):\n",
    "    if(date < 10):\n",
    "        dates.append('0'+str(date))\n",
    "    else:\n",
    "        dates.append(str(date))"
   ]
  },
  {
   "cell_type": "code",
   "execution_count": 11,
   "metadata": {},
   "outputs": [],
   "source": [
    "def url_is_alive(url):\n",
    "    \"\"\"\n",
    "    Checks that a given URL is reachable.\n",
    "    :param url: A URL\n",
    "    :rtype: bool\n",
    "    \"\"\"\n",
    "    request = urllib.request.Request(url)\n",
    "    request.get_method = lambda: 'HEAD'\n",
    "\n",
    "    try:\n",
    "        urllib.request.urlopen(request)\n",
    "        return True\n",
    "    except urllib.request.HTTPError:\n",
    "        return False"
   ]
  },
  {
   "cell_type": "code",
   "execution_count": 12,
   "metadata": {},
   "outputs": [],
   "source": [
    "def generate_csv(years=years,months=months,dates=dates):\n",
    "\n",
    "    \"\"\"\n",
    "    Generates a merged csv containing data from years,months and dates.\n",
    "    :args:  years : array containing years in string\n",
    "            months: array containing months in string\n",
    "            dates: array containing dates in string\n",
    "\n",
    "    :rtype: int\n",
    "    \"\"\"\n",
    "    open(out_file_name,\"ab\").write(header_line)\n",
    "    for year in years:\n",
    "        for month in months:\n",
    "            for date in dates:\n",
    "                down_url = base_url+year+'_'+month+'_'+date+'.zip'\n",
    "                if(url_is_alive(down_url)):\n",
    "                    urllib.request.urlretrieve(down_url, 'CC_'+year+'_'+month+'_'+date+'.zip')\n",
    "                    file = zipfile.ZipFile('CC_'+year+'_'+month+'_'+date+'.zip', \"r\")\n",
    "                    for name in file.infolist():\n",
    "                        data = file.open(name)\n",
    "                        lines = data.readlines()\n",
    "                        for line in lines:\n",
    "                            if(line != header_line):\n",
    "                                open(out_file_name,\"ab\").write(line)\n",
    "                    os.remove('CC_'+year+'_'+month+'_'+date+'.zip')"
   ]
  },
  {
   "cell_type": "code",
   "execution_count": 28,
   "metadata": {},
   "outputs": [],
   "source": [
    "# example call of function,\n",
    "# NOTE: the file one_big_csv is opened in append mode, please delete/rename the file everytime generating new csv\n",
    "generate_csv(years,months,dates)"
   ]
  },
  {
   "cell_type": "code",
   "execution_count": null,
   "metadata": {},
   "outputs": [],
   "source": []
  }
 ],
 "metadata": {
  "kernelspec": {
   "display_name": "Python 3 (ipykernel)",
   "language": "python",
   "name": "python3"
  },
  "language_info": {
   "codemirror_mode": {
    "name": "ipython",
    "version": 3
   },
   "file_extension": ".py",
   "mimetype": "text/x-python",
   "name": "python",
   "nbconvert_exporter": "python",
   "pygments_lexer": "ipython3",
   "version": "3.7.3"
  }
 },
 "nbformat": 4,
 "nbformat_minor": 2
}
