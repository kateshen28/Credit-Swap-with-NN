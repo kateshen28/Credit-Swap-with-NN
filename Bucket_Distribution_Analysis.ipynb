{
 "cells": [
  {
   "cell_type": "code",
   "execution_count": null,
   "metadata": {},
   "outputs": [],
   "source": [
    "import scipy.stats as stats\n",
    "from matplotlib import pylab as plt\n",
    "import numpy as np\n",
    "import matplotlib.pyplot as plt\n",
    "import pandas as pd\n",
    "import seaborn as sns\n",
    "from sklearn import preprocessing\n",
    "from datetime import datetime"
   ]
  },
  {
   "cell_type": "code",
   "execution_count": null,
   "metadata": {},
   "outputs": [],
   "source": [
    "df = pd.read_csv(\"for_HY_distribution.csv\")\n",
    "#index_col = \"EXECUTION_TIMESTAMP\""
   ]
  },
  {
   "cell_type": "code",
   "execution_count": null,
   "metadata": {},
   "outputs": [],
   "source": [
    "df.head()"
   ]
  },
  {
   "cell_type": "code",
   "execution_count": null,
   "metadata": {},
   "outputs": [],
   "source": [
    "# convert timestamp to datetime object\n",
    "df['EXECUTION_TIMESTAMP'] = pd.to_datetime(df['EXECUTION_TIMESTAMP'])\n",
    "index_l4 = []\n",
    "for i in range(df.shape[0]):\n",
    "    if df.iloc[i][\"EXECUTION_TIMESTAMP\"].year == 2019 and df.iloc[i][\"EXECUTION_TIMESTAMP\"].month == 1 and df.iloc[i][\"EXECUTION_TIMESTAMP\"].day == 18:\n",
    "        index_l4.append(i)\n",
    "d = df.iloc[index_l4]\n",
    "#2016-11-10 Payment Distribution:\n",
    "plt.hist(d[\"Payment\"],bins = 30)\n",
    "plt.xlabel('Payment',fontsize=15)\n",
    "plt.ylabel('Counts',fontsize=15)\n",
    "plt.title('2019-01-19 Payment Distribution',fontsize=20);"
   ]
  },
  {
   "cell_type": "code",
   "execution_count": null,
   "metadata": {},
   "outputs": [],
   "source": [
    "# prepare data for standardization with mean 0 std 1\n",
    "values = d[\"Payment\"].values\n",
    "values = values.reshape((len(values), 1))\n",
    "# train the standardization\n",
    "scaler = preprocessing.StandardScaler()\n",
    "scaler = scaler.fit(values)\n",
    "normalized = scaler.transform(values)\n",
    "d[\"Payment\"] = normalized"
   ]
  },
  {
   "cell_type": "code",
   "execution_count": null,
   "metadata": {},
   "outputs": [],
   "source": [
    "plt.hist(d[\"Payment\"],bins = 30)"
   ]
  },
  {
   "cell_type": "code",
   "execution_count": null,
   "metadata": {},
   "outputs": [],
   "source": [
    "d['Payment'].describe()"
   ]
  },
  {
   "cell_type": "code",
   "execution_count": null,
   "metadata": {},
   "outputs": [],
   "source": [
    "from sklearn.neighbors import KernelDensity\n",
    "from scipy.stats import norm\n",
    "X = np.array(d[\"Payment\"])\n",
    "x_d = np.linspace(-1, 7, 1000)\n",
    "\n",
    "# instantiate and fit the KDE model\n",
    "kde = KernelDensity(bandwidth=1.0, kernel='gaussian')\n",
    "kde.fit(X[:, None])\n",
    "\n",
    "# score_samples returns the log of the probability density\n",
    "logprob = kde.score_samples(x_d[:, None])\n",
    "\n",
    "plt.fill_between(x_d, np.exp(logprob), alpha=0.5)\n",
    "plt.plot(X, np.full_like(X, -0.01), '|k', markeredgewidth=1)\n",
    "plt.ylim(-0.02, 0.4)"
   ]
  },
  {
   "cell_type": "code",
   "execution_count": null,
   "metadata": {},
   "outputs": [],
   "source": [
    "kde.fit(X[:, None]).sample(10)"
   ]
  },
  {
   "cell_type": "code",
   "execution_count": null,
   "metadata": {},
   "outputs": [],
   "source": [
    "kde.fit(X[:, None]).get_params()"
   ]
  },
  {
   "cell_type": "code",
   "execution_count": null,
   "metadata": {},
   "outputs": [],
   "source": [
    "norm.fit(X[:, None])"
   ]
  },
  {
   "cell_type": "code",
   "execution_count": null,
   "metadata": {},
   "outputs": [],
   "source": [
    "index_l2 = []\n",
    "for i in range(df.shape[0]):\n",
    "    if df.iloc[i][\"EXECUTION_TIMESTAMP\"].year == 2016 and df.iloc[i][\"EXECUTION_TIMESTAMP\"].month == 7 and df.iloc[i][\"EXECUTION_TIMESTAMP\"].day == 15:\n",
    "        index_l2.append(i)\n",
    "b = df.iloc[index_l2]\n",
    "#2017-7-17 Payment Distribution:\n",
    "plt.hist(b[\"Payment\"], bins = 30)\n",
    "plt.xlabel('Payment',fontsize=15)\n",
    "plt.ylabel('Counts',fontsize=15)\n",
    "plt.title('2017-7-17 Payment Distribution',fontsize=20);"
   ]
  },
  {
   "cell_type": "code",
   "execution_count": null,
   "metadata": {},
   "outputs": [],
   "source": [
    "# prepare data for standardization with mean 0 std 1\n",
    "values = b[\"Payment\"].values\n",
    "values = values.reshape((len(values), 1))\n",
    "# train the standardization\n",
    "scaler = preprocessing.StandardScaler()\n",
    "scaler = scaler.fit(values)\n",
    "normalized = scaler.transform(values)\n",
    "b[\"Payment\"] = normalized"
   ]
  },
  {
   "cell_type": "code",
   "execution_count": null,
   "metadata": {},
   "outputs": [],
   "source": [
    "from sklearn.neighbors import KernelDensity\n",
    "from scipy.stats import norm\n",
    "X1 = np.array(b[\"Payment\"])\n",
    "x_d = np.linspace(-1, 7, 1000)\n",
    "\n",
    "# instantiate and fit the KDE model\n",
    "kde = KernelDensity(bandwidth=1.0, kernel='exponential')\n",
    "kde.fit(X1[:, None])\n",
    "\n",
    "# score_samples returns the log of the probability density\n",
    "logprob = kde.score_samples(x_d[:, None])\n",
    "\n",
    "plt.fill_between(x_d, np.exp(logprob), alpha=0.5)\n",
    "plt.plot(X1, np.full_like(X1, -0.01), '|k', markeredgewidth=1)\n",
    "plt.ylim(-0.02, 0.4)"
   ]
  },
  {
   "cell_type": "code",
   "execution_count": null,
   "metadata": {},
   "outputs": [],
   "source": [
    "norm.fit(X1[:, None])"
   ]
  },
  {
   "cell_type": "code",
   "execution_count": null,
   "metadata": {},
   "outputs": [],
   "source": []
  }
 ],
 "metadata": {
  "kernelspec": {
   "display_name": "Python 3 (ipykernel)",
   "language": "python",
   "name": "python3"
  },
  "language_info": {
   "codemirror_mode": {
    "name": "ipython",
    "version": 3
   },
   "file_extension": ".py",
   "mimetype": "text/x-python",
   "name": "python",
   "nbconvert_exporter": "python",
   "pygments_lexer": "ipython3",
   "version": "3.7.3"
  }
 },
 "nbformat": 4,
 "nbformat_minor": 2
}
