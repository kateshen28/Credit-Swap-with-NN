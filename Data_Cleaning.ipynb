{
 "cells": [
  {
   "cell_type": "code",
   "execution_count": null,
   "metadata": {},
   "outputs": [],
   "source": [
    "import pandas as pd\n",
    "import numpy as np\n",
    "import datetime as dt\n",
    "import csv\n",
    "import seaborn as sns\n",
    "import matplotlib.pyplot as plt\n"
   ]
  },
  {
   "cell_type": "code",
   "execution_count": null,
   "metadata": {},
   "outputs": [],
   "source": [
    "credits = pd.read_csv(\"credit.csv\")"
   ]
  },
  {
   "cell_type": "code",
   "execution_count": null,
   "metadata": {},
   "outputs": [],
   "source": [
    "credits.columns"
   ]
  },
  {
   "cell_type": "code",
   "execution_count": null,
   "metadata": {},
   "outputs": [],
   "source": [
    "credits.info()"
   ]
  },
  {
   "cell_type": "code",
   "execution_count": null,
   "metadata": {},
   "outputs": [],
   "source": [
    "type(credits['DISSEMINATION_ID'].tolist()[0])"
   ]
  },
  {
   "cell_type": "code",
   "execution_count": null,
   "metadata": {},
   "outputs": [],
   "source": [
    "credits[\"DISSEMINATION_ID\"] = credits[\"DISSEMINATION_ID\"].convert_objects(convert_numeric=True)"
   ]
  },
  {
   "cell_type": "code",
   "execution_count": null,
   "metadata": {},
   "outputs": [],
   "source": [
    "credits[\"ORIGINAL_DISSEMINATION_ID\"] = credits[\"ORIGINAL_DISSEMINATION_ID\"].convert_objects(convert_numeric=True)"
   ]
  },
  {
   "cell_type": "code",
   "execution_count": null,
   "metadata": {},
   "outputs": [],
   "source": [
    "#credits.loc[credits[\"ORIGINAL_DISSEMINATION_ID\"] == 61975011]"
   ]
  },
  {
   "cell_type": "code",
   "execution_count": null,
   "metadata": {},
   "outputs": [],
   "source": [
    "credits_new = credits[[\"DISSEMINATION_ID\",\"ORIGINAL_DISSEMINATION_ID\",\"ACTION\",\"EXECUTION_TIMESTAMP\",\"CLEARED\",'EFFECTIVE_DATE', 'END_DATE', 'DAY_COUNT_CONVENTION','SETTLEMENT_CURRENCY','TAXONOMY','PRICE_NOTATION_TYPE', 'PRICE_NOTATION','ROUNDED_NOTIONAL_AMOUNT_1']]"
   ]
  },
  {
   "cell_type": "code",
   "execution_count": null,
   "metadata": {},
   "outputs": [],
   "source": [
    "credits_new = credits_new[credits_new[\"CLEARED\"] == \"C\"]\n",
    "# Filter out NaN from PRICE_NOTATION_TYPE\n",
    "credits_new = credits_new[credits_new[\"PRICE_NOTATION_TYPE\"].isnull() == False] # 1% null value\n",
    "credits_new"
   ]
  },
  {
   "cell_type": "code",
   "execution_count": null,
   "metadata": {},
   "outputs": [],
   "source": [
    "credits.info()"
   ]
  },
  {
   "cell_type": "code",
   "execution_count": null,
   "metadata": {},
   "outputs": [],
   "source": [
    "credits_new[\"TAXONOMY\"].unique()"
   ]
  },
  {
   "cell_type": "code",
   "execution_count": null,
   "metadata": {},
   "outputs": [],
   "source": [
    "# Filter for USD Taxonomy HY and IG only\n",
    "mask = (credits_new[\"TAXONOMY\"] == 'Credit:Index:CDX:CDXIG') | (credits_new[\"TAXONOMY\"]=='Credit:Index:CDX:CDXHY')\n",
    "credits_new = credits_new[mask]\n"
   ]
  },
  {
   "cell_type": "code",
   "execution_count": null,
   "metadata": {},
   "outputs": [],
   "source": [
    "# Resetting INDEX\n",
    "credits_new = credits_new.reset_index(drop = True)\n",
    "credits_new"
   ]
  },
  {
   "cell_type": "code",
   "execution_count": null,
   "metadata": {},
   "outputs": [],
   "source": [
    "credits_new[\"TAXONOMY\"].unique()"
   ]
  },
  {
   "cell_type": "code",
   "execution_count": null,
   "metadata": {},
   "outputs": [],
   "source": [
    "#pd.to_datetime(credits_new[\"EFFECTIVE_DATE\"],format=\"%Y-%m-%d\")\n",
    "#pd.to_datetime(credits_new['END_DATE'],format=\"%Y-%m-%d\")\n",
    "\n",
    "# Abnormal Effective Date\n",
    "abnormal_date_entry = credits_new[credits_new[\"EFFECTIVE_DATE\"] == \"2571-10-09\"]"
   ]
  },
  {
   "cell_type": "code",
   "execution_count": null,
   "metadata": {},
   "outputs": [],
   "source": [
    "credits_new = credits_new.drop(abnormal_date_entry.index)\n",
    "credits_new = credits_new.reset_index(drop = True)\n",
    "credits_new"
   ]
  },
  {
   "cell_type": "code",
   "execution_count": null,
   "metadata": {},
   "outputs": [],
   "source": [
    "# Date Time Format Conversion\n",
    "credits_new[\"EFFECTIVE_DATE\"]= pd.to_datetime(credits_new[\"EFFECTIVE_DATE\"])\n",
    "credits_new['END_DATE']=pd.to_datetime(credits_new['END_DATE'])\n",
    "credits_new.info()"
   ]
  },
  {
   "cell_type": "code",
   "execution_count": null,
   "metadata": {},
   "outputs": [],
   "source": [
    "credits_new[\"SETTLEMENT_CURRENCY\"].value_counts()\n",
    "#credits_new[\"SETTLEMENT_CURRENCY\"].count()"
   ]
  },
  {
   "cell_type": "code",
   "execution_count": null,
   "metadata": {},
   "outputs": [],
   "source": [
    "# Fill N/A  in Currency with USD\n",
    "credits_new[\"SETTLEMENT_CURRENCY\"] = credits_new[\"SETTLEMENT_CURRENCY\"].fillna(\"USD\")"
   ]
  },
  {
   "cell_type": "code",
   "execution_count": null,
   "metadata": {},
   "outputs": [],
   "source": [
    "credits_new[\"SETTLEMENT_CURRENCY\"].value_counts()"
   ]
  },
  {
   "cell_type": "code",
   "execution_count": null,
   "metadata": {
    "scrolled": false
   },
   "outputs": [],
   "source": [
    "# Filter for valid time  4.5-5.5 years\n",
    "credits_new2 = credits_new.loc[(credits_new[\"END_DATE\"]- credits_new[\"EFFECTIVE_DATE\"] >= dt.timedelta(days = 1643))  & (credits_new[\"END_DATE\"] - credits_new[\"EFFECTIVE_DATE\"] <= dt.timedelta(days = 2007))] \n",
    "credits_new2"
   ]
  },
  {
   "cell_type": "code",
   "execution_count": null,
   "metadata": {},
   "outputs": [],
   "source": [
    "# More time stamp conversion\n",
    "credits_new2[\"EXECUTION_TIMESTAMP\"]= pd.to_datetime(credits_new2[\"EXECUTION_TIMESTAMP\"])"
   ]
  },
  {
   "cell_type": "code",
   "execution_count": null,
   "metadata": {},
   "outputs": [],
   "source": [
    "# Reset Index again\n",
    "credits_new2 = credits_new2.reset_index(drop = True)\n",
    "credits_new2"
   ]
  },
  {
   "cell_type": "code",
   "execution_count": null,
   "metadata": {},
   "outputs": [],
   "source": [
    "credits_new2[\"DAY_COUNT_CONVENTION\"].unique()"
   ]
  },
  {
   "cell_type": "code",
   "execution_count": null,
   "metadata": {},
   "outputs": [],
   "source": [
    "credits_new2[\"DAY_COUNT_CONVENTION\"].value_counts()"
   ]
  },
  {
   "cell_type": "code",
   "execution_count": null,
   "metadata": {},
   "outputs": [],
   "source": [
    "# Filter for Non \"ACT/360\" Entries\n",
    "credits_new2 = credits_new2.loc[credits_new2[\"DAY_COUNT_CONVENTION\"] == ' ACT/360']"
   ]
  },
  {
   "cell_type": "code",
   "execution_count": null,
   "metadata": {},
   "outputs": [],
   "source": [
    "credits_new2[\"PRICE_NOTATION_TYPE\"].unique()"
   ]
  },
  {
   "cell_type": "code",
   "execution_count": null,
   "metadata": {},
   "outputs": [],
   "source": [
    "# Remap similar entry names\n",
    "credits_new2[\"PRICE_NOTATION_TYPE\"] = credits_new2[\"PRICE_NOTATION_TYPE\"].map({\"BasisPoints\":\"Basis points\", \"Basis Points\": \"Basis points\", \"Basispoints\":\"Basis points\", \"UpfrontPoints\": \"UpfrontPoints\", \"Price\":\"Price\", \"Percentage\":\"Percentage\"})"
   ]
  },
  {
   "cell_type": "code",
   "execution_count": null,
   "metadata": {},
   "outputs": [],
   "source": [
    "credits_new2.head()"
   ]
  },
  {
   "cell_type": "code",
   "execution_count": null,
   "metadata": {},
   "outputs": [],
   "source": [
    "# Encoding for + in Notional Amount \n",
    "l = credits_new2[\"ROUNDED_NOTIONAL_AMOUNT_1\"].tolist()\n",
    "encoding = [1 if '+' in n else 0 for n in l]\n",
    "credits_new2[\"EXCEEDS_ROUNDED_NOTIONAL_AMOUNT\"] = encoding\n",
    "\n",
    "# Fix Price Notation/ROUNDED_NOTIONAL_AMOUNT_1 Formatting\n",
    "credits_new2 = credits_new2.dropna(axis = 0,subset = [\"PRICE_NOTATION\"])\n",
    "credits_new2[\"PRICE_NOTATION\"] = credits_new2[\"PRICE_NOTATION\"].replace(',','')\n",
    "credits_new2[\"ROUNDED_NOTIONAL_AMOUNT_1\"] = credits_new2[\"ROUNDED_NOTIONAL_AMOUNT_1\"].str.replace(\",\",\"\").str.replace(\"+\",\"\")\n",
    "credits_new2[\"PRICE_NOTATION\"] = credits_new2[\"PRICE_NOTATION\"].convert_objects(convert_dates='coerce', convert_numeric=True)"
   ]
  },
  {
   "cell_type": "code",
   "execution_count": null,
   "metadata": {},
   "outputs": [],
   "source": [
    "credits_new2['PRICE_NOTATION'].hist(by=credits_new2['TAXONOMY'],bins = 1000)"
   ]
  },
  {
   "cell_type": "code",
   "execution_count": null,
   "metadata": {},
   "outputs": [],
   "source": [
    "#credits_new2 = credits_new2.drop([\"SETTLEMENT_CURRENCY\",\"CLEARED\"],axis=1)"
   ]
  },
  {
   "cell_type": "code",
   "execution_count": null,
   "metadata": {},
   "outputs": [],
   "source": [
    "# Numeric format conversion\n",
    "#credits_new2[\"ORIGINAL_DISSEMINATION_ID\"] = pd.to_numeric(credits_new2[\"ORIGINAL_DISSEMINATION_ID\"])"
   ]
  },
  {
   "cell_type": "code",
   "execution_count": null,
   "metadata": {},
   "outputs": [],
   "source": [
    "#credits_new2['DISSEMINATION_ID'] = credits_new2.DISSEMINATION_ID.astype(int)"
   ]
  },
  {
   "cell_type": "code",
   "execution_count": null,
   "metadata": {},
   "outputs": [],
   "source": [
    "# Remove all the 47 upfrontpoints: \n",
    "credits_new2 = credits_new2.loc[credits_new2[\"PRICE_NOTATION_TYPE\"] != \"UpfrontPoints\"]\n",
    "credits_new2"
   ]
  },
  {
   "cell_type": "code",
   "execution_count": null,
   "metadata": {},
   "outputs": [],
   "source": [
    "# Create a new column of total value of the orders:\n",
    "price_type = credits_new2[\"PRICE_NOTATION_TYPE\"].unique().tolist()"
   ]
  },
  {
   "cell_type": "code",
   "execution_count": null,
   "metadata": {},
   "outputs": [],
   "source": [
    "credits_new2[\"ROUNDED_NOTIONAL_AMOUNT_1\"] = credits_new2[\"ROUNDED_NOTIONAL_AMOUNT_1\"].astype(float)"
   ]
  },
  {
   "cell_type": "code",
   "execution_count": null,
   "metadata": {},
   "outputs": [],
   "source": [
    "total_amount = []\n",
    "for i in range(credits_new2.shape[0]):\n",
    "    if credits_new2.iloc[i][\"PRICE_NOTATION_TYPE\"] == \"Basis points\":\n",
    "        total_amount.append(credits_new2.iloc[i][\"PRICE_NOTATION\"] * (1/10000) * credits_new2.iloc[i][\"ROUNDED_NOTIONAL_AMOUNT_1\"])\n",
    "    elif credits_new2.iloc[i][\"PRICE_NOTATION_TYPE\"] == \"Price\":\n",
    "        total_amount.append(credits_new2.iloc[i][\"PRICE_NOTATION\"] * credits_new2.iloc[i][\"ROUNDED_NOTIONAL_AMOUNT_1\"])\n",
    "    else:\n",
    "        total_amount.append(credits_new2.iloc[i][\"PRICE_NOTATION\"] * 0.01 * credits_new2.iloc[i][\"ROUNDED_NOTIONAL_AMOUNT_1\"])\n",
    "total_amount        "
   ]
  },
  {
   "cell_type": "code",
   "execution_count": null,
   "metadata": {},
   "outputs": [],
   "source": [
    "credits_new2[\"Payment\"] = total_amount \n",
    "print (min(total_amount))\n",
    "print(max(total_amount))"
   ]
  },
  {
   "cell_type": "code",
   "execution_count": null,
   "metadata": {},
   "outputs": [],
   "source": [
    "credits_new2[\"Payment\"].hist(range=[0,1000000])"
   ]
  },
  {
   "cell_type": "code",
   "execution_count": null,
   "metadata": {},
   "outputs": [],
   "source": [
    "#plt.boxplot(credits_new2[\"Payment\"][1:int(len(total_amount)/10)])"
   ]
  },
  {
   "cell_type": "code",
   "execution_count": null,
   "metadata": {},
   "outputs": [],
   "source": [
    "# find out price = 0 observation\n",
    "price0 = credits_new2.loc[credits_new2[\"PRICE_NOTATION\"]==0]\n",
    "price0"
   ]
  },
  {
   "cell_type": "code",
   "execution_count": null,
   "metadata": {},
   "outputs": [],
   "source": [
    "price0['ACTION'].value_counts()"
   ]
  },
  {
   "cell_type": "code",
   "execution_count": null,
   "metadata": {},
   "outputs": [],
   "source": [
    "credits_new2.to_csv(\"credits_clean_v2.csv\",index = False)"
   ]
  },
  {
   "cell_type": "code",
   "execution_count": null,
   "metadata": {},
   "outputs": [],
   "source": [
    "# Find all Canceld / Correct ACTION assuming only these have non-null ORIGINAL_DISSEMINATION_ID\n",
    "changed = credits_new2.loc[credits_new2[\"ORIGINAL_DISSEMINATION_ID\"].isnull() == False ]\n",
    "changed"
   ]
  },
  {
   "cell_type": "code",
   "execution_count": null,
   "metadata": {},
   "outputs": [],
   "source": [
    "# Find mismatched entries (Orphan entry where there is only one of Cancel or Correct)\n",
    "# Because when an entry is corrected, future corrections/cancelations will use the newly generated DISSEMINATION_ID\n",
    "group_1 = changed.groupby('ORIGINAL_DISSEMINATION_ID').count()\n"
   ]
  },
  {
   "cell_type": "code",
   "execution_count": null,
   "metadata": {},
   "outputs": [],
   "source": [
    "changed.sort_values(by =['ORIGINAL_DISSEMINATION_ID'])"
   ]
  },
  {
   "cell_type": "code",
   "execution_count": null,
   "metadata": {},
   "outputs": [],
   "source": [
    "finalListOfId = list(map(int, credits_new2[\"DISSEMINATION_ID\"]))\n",
    "originalListOfId =  credits[\"DISSEMINATION_ID\"]\n",
    "print(\"originalLen: \" + str(len(set(originalListOfId))))\n",
    "print(\"finalLen: \" + str(len(set(finalListOfId))))\n",
    "eliminated = list(set(originalListOfId) - set(finalListOfId))\n",
    "print(\"eliminated: \" + str(len(eliminated)))"
   ]
  },
  {
   "cell_type": "code",
   "execution_count": null,
   "metadata": {},
   "outputs": [],
   "source": [
    "# Remove all entries considered mismatched (orphan entries)        \n",
    "credits_orphan_eliminated = credits_new2[~credits_new2[\"ORIGINAL_DISSEMINATION_ID\"].isin(eliminated)]\n",
    "credits_orphan_eliminated"
   ]
  },
  {
   "cell_type": "code",
   "execution_count": null,
   "metadata": {},
   "outputs": [],
   "source": [
    "# Find all NEW Cancel/Correct ACTION entries after orphans have been removed\n",
    "changed2 = credits_orphan_eliminated.loc[credits_orphan_eliminated[\"ORIGINAL_DISSEMINATION_ID\"].isnull() == False ]\n",
    "changed2['ACTION'].value_counts() # find 174 NEW action but has original_id\n"
   ]
  },
  {
   "cell_type": "code",
   "execution_count": null,
   "metadata": {},
   "outputs": [],
   "source": [
    "#Store abnormal New Action:\n",
    "abnormal_New = changed2.loc[changed2[\"ACTION\"] == \"NEW\"]\n",
    "abnormal_New[\"ACTION\"].value_counts()\n",
    "\n",
    "#removed abnormal new:\n",
    "changed2 = changed2.loc[changed2[\"ACTION\"] != \"NEW\"]"
   ]
  },
  {
   "cell_type": "code",
   "execution_count": null,
   "metadata": {},
   "outputs": [],
   "source": [
    "# Print changed2 in matching pairs\n",
    "changed2.sort_values(by =['ORIGINAL_DISSEMINATION_ID',\"ACTION\", \"EXECUTION_TIMESTAMP\"])"
   ]
  },
  {
   "cell_type": "code",
   "execution_count": null,
   "metadata": {},
   "outputs": [],
   "source": [
    "changed2['ACTION'].value_counts()"
   ]
  },
  {
   "cell_type": "code",
   "execution_count": null,
   "metadata": {},
   "outputs": [],
   "source": [
    "# percentage of correct in total observations: 2.4%\n",
    "# percentage of cancel in total observations: 1.6%"
   ]
  },
  {
   "cell_type": "code",
   "execution_count": null,
   "metadata": {},
   "outputs": [],
   "source": [
    "cancel_correct = changed2.groupby('ORIGINAL_DISSEMINATION_ID').count()\n",
    "cancel_correct.head()"
   ]
  },
  {
   "cell_type": "code",
   "execution_count": null,
   "metadata": {},
   "outputs": [],
   "source": [
    "cancel_correct['DISSEMINATION_ID'].unique()"
   ]
  },
  {
   "cell_type": "code",
   "execution_count": null,
   "metadata": {},
   "outputs": [],
   "source": [
    "# All entries where we see ORIGINAL_DISSEMINATION_ID exactly twice (aka. Cancel/Correct pair)\n",
    "correct = cancel_correct.loc[cancel_correct[\"DISSEMINATION_ID\"] == 2].index.tolist()"
   ]
  },
  {
   "cell_type": "code",
   "execution_count": null,
   "metadata": {},
   "outputs": [],
   "source": [
    "# All entries where we see ORIGINAL_DISSEMINATION_ID exactly once (aka. Cancel action)\n",
    "cancel = cancel_correct.loc[cancel_correct[\"DISSEMINATION_ID\"] == 1].index.tolist()"
   ]
  },
  {
   "cell_type": "code",
   "execution_count": null,
   "metadata": {},
   "outputs": [],
   "source": [
    "# All Cancel entries\n",
    "df_cancel = credits_orphan_eliminated[credits_orphan_eliminated[\"ORIGINAL_DISSEMINATION_ID\"].isin(cancel)]"
   ]
  },
  {
   "cell_type": "code",
   "execution_count": null,
   "metadata": {},
   "outputs": [],
   "source": [
    "df_cancel = df_cancel.sort_values(by =['ORIGINAL_DISSEMINATION_ID',\"EXECUTION_TIMESTAMP\"])                           \n",
    "df_cancel"
   ]
  },
  {
   "cell_type": "code",
   "execution_count": null,
   "metadata": {},
   "outputs": [],
   "source": [
    "df_cancel[\"ACTION\"].value_counts() # 4 correct in df.cancel, maybe because of the dropping null and upfront price in price type\n",
    "# we found in the original credits csv, but we can't find the new action "
   ]
  },
  {
   "cell_type": "code",
   "execution_count": null,
   "metadata": {},
   "outputs": [],
   "source": [
    "df_cancel[\"TAXONOMY\"].value_counts().plot.bar()"
   ]
  },
  {
   "cell_type": "code",
   "execution_count": null,
   "metadata": {},
   "outputs": [],
   "source": [
    "df_cancel[\"Payment\"].hist()"
   ]
  },
  {
   "cell_type": "code",
   "execution_count": null,
   "metadata": {},
   "outputs": [],
   "source": [
    "df_cancel[\"PRICE_NOTATION\"].hist()"
   ]
  },
  {
   "cell_type": "code",
   "execution_count": null,
   "metadata": {},
   "outputs": [],
   "source": [
    "df_cancel[\"ROUNDED_NOTIONAL_AMOUNT_1\"].hist()"
   ]
  },
  {
   "cell_type": "code",
   "execution_count": null,
   "metadata": {},
   "outputs": [],
   "source": [
    "df_cancel[\"EXCEEDS_ROUNDED_NOTIONAL_AMOUNT\"].hist()"
   ]
  },
  {
   "cell_type": "code",
   "execution_count": null,
   "metadata": {},
   "outputs": [],
   "source": [
    "#Create a dataframe of all corrected entries:\n",
    "df_correct = credits_orphan_eliminated[credits_orphan_eliminated[\"ORIGINAL_DISSEMINATION_ID\"].isin(correct)]"
   ]
  },
  {
   "cell_type": "code",
   "execution_count": null,
   "metadata": {},
   "outputs": [],
   "source": [
    "#sort the corrected dataframe:\n",
    "df_correct = df_correct.sort_values(by =['ORIGINAL_DISSEMINATION_ID',\"EXECUTION_TIMESTAMP\",\"ACTION\"])"
   ]
  },
  {
   "cell_type": "code",
   "execution_count": null,
   "metadata": {},
   "outputs": [],
   "source": [
    "df_correct[\"ACTION\"].value_counts()"
   ]
  },
  {
   "cell_type": "code",
   "execution_count": null,
   "metadata": {},
   "outputs": [],
   "source": [
    "df_correct[\"TAXONOMY\"].value_counts().plot.bar()"
   ]
  },
  {
   "cell_type": "code",
   "execution_count": null,
   "metadata": {},
   "outputs": [],
   "source": [
    "df_correct[\"Payment\"].hist()"
   ]
  },
  {
   "cell_type": "code",
   "execution_count": null,
   "metadata": {},
   "outputs": [],
   "source": [
    "df_correct[\"PRICE_NOTATION\"].hist()"
   ]
  },
  {
   "cell_type": "code",
   "execution_count": null,
   "metadata": {},
   "outputs": [],
   "source": [
    "df_correct[\"ROUNDED_NOTIONAL_AMOUNT_1\"].hist()"
   ]
  },
  {
   "cell_type": "code",
   "execution_count": null,
   "metadata": {},
   "outputs": [],
   "source": [
    "df_correct[\"EXCEEDS_ROUNDED_NOTIONAL_AMOUNT\"].hist()"
   ]
  },
  {
   "cell_type": "code",
   "execution_count": null,
   "metadata": {},
   "outputs": [],
   "source": [
    "to_find_new = df_correct[\"ORIGINAL_DISSEMINATION_ID\"].tolist()"
   ]
  },
  {
   "cell_type": "code",
   "execution_count": null,
   "metadata": {},
   "outputs": [],
   "source": [
    "df_correct_NEW = credits_orphan_eliminated[credits_orphan_eliminated[\"DISSEMINATION_ID\"].isin(to_find_new)]"
   ]
  },
  {
   "cell_type": "code",
   "execution_count": null,
   "metadata": {},
   "outputs": [],
   "source": [
    "df_correct_NEW.sort_values(by =[\"DISSEMINATION_ID\"])"
   ]
  }
 ],
 "metadata": {
  "kernelspec": {
   "display_name": "Python 3 (ipykernel)",
   "language": "python",
   "name": "python3"
  },
  "language_info": {
   "codemirror_mode": {
    "name": "ipython",
    "version": 3
   },
   "file_extension": ".py",
   "mimetype": "text/x-python",
   "name": "python",
   "nbconvert_exporter": "python",
   "pygments_lexer": "ipython3",
   "version": "3.7.3"
  }
 },
 "nbformat": 4,
 "nbformat_minor": 2
}
